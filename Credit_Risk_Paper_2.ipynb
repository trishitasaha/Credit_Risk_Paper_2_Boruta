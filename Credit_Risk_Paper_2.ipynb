{
  "nbformat": 4,
  "nbformat_minor": 0,
  "metadata": {
    "colab": {
      "provenance": []
    },
    "kernelspec": {
      "name": "python3",
      "display_name": "Python 3"
    },
    "language_info": {
      "name": "python"
    }
  },
  "cells": [
    {
      "cell_type": "code",
      "execution_count": null,
      "metadata": {
        "id": "04X0FfUr27Cm"
      },
      "outputs": [],
      "source": [
        "# import necessary packages\n",
        "import matplotlib.pylab as plt\n",
        "from scipy import interp\n",
        "from sklearn.ensemble import RandomForestClassifier\n",
        "from sklearn.metrics import roc_curve,auc\n",
        "from sklearn.model_selection import StratifiedKFold\n",
        "import matplotlib.patches as patches\n",
        "\n",
        "# Input data files are available in the \"../input/\" directory.\n",
        "# For example, running this (by clicking run or pressing Shift+Enter) will list the files in the input directory\n",
        "from statistics import mean, stdev\n",
        "from sklearn import preprocessing\n",
        "from sklearn.model_selection import StratifiedKFold\n",
        "from sklearn import linear_model\n",
        "from sklearn import datasets\n",
        "\n",
        "import numpy as np\n",
        "import pandas as pd\n",
        "from sklearn.linear_model import LogisticRegression\n",
        "from sklearn.model_selection import train_test_split, GridSearchCV, StratifiedKFold\n",
        "from sklearn.preprocessing import MinMaxScaler\n",
        "from imblearn.over_sampling import SMOTE\n",
        "from imblearn.pipeline import Pipeline as imbpipeline\n",
        "from sklearn.pipeline import Pipeline\n",
        "from sklearn.preprocessing import LabelEncoder\n",
        "from sklearn.model_selection import train_test_split\n",
        "from sklearn.linear_model import LogisticRegression\n",
        "from sklearn.metrics import accuracy_score\n",
        "\n",
        "from scipy import interpolate\n",
        "import matplotlib.pyplot as plt\n",
        "from sklearn.metrics import f1_score\n",
        "from sklearn.metrics import accuracy_score\n",
        "import matplotlib.pyplot as plt\n",
        "from sklearn.metrics import precision_recall_curve\n",
        "from sklearn.metrics import confusion_matrix\n",
        "from sklearn.metrics import roc_curve\n",
        "from sklearn.metrics import f1_score\n",
        "from sklearn.metrics import auc\n",
        "%matplotlib inline\n",
        "from sklearn.metrics import matthews_corrcoef\n",
        "# Define pipelines\n",
        "from sklearn.pipeline import Pipeline\n",
        "from sklearn.preprocessing import MinMaxScaler, Normalizer\n",
        "from keras.layers import Dense\n",
        "from keras.models import Sequential\n",
        "import matplotlib.pyplot as plt\n",
        "\n",
        "from sklearn import svm\n",
        "from sklearn.metrics import auc\n",
        "from sklearn.metrics import RocCurveDisplay\n",
        "from sklearn.model_selection import StratifiedKFold"
      ]
    },
    {
      "cell_type": "code",
      "source": [
        "df=pd.read_csv('UCI_Credit_Card.csv')\n",
        "df"
      ],
      "metadata": {
        "colab": {
          "base_uri": "https://localhost:8080/",
          "height": 488
        },
        "id": "vc3OhaT-4OLn",
        "outputId": "6e2ab328-4fb0-4966-d5e6-2b874d2a55dc"
      },
      "execution_count": null,
      "outputs": [
        {
          "output_type": "execute_result",
          "data": {
            "text/plain": [
              "          ID  LIMIT_BAL  SEX  EDUCATION  MARRIAGE  AGE  PAY_0  PAY_2  PAY_3  \\\n",
              "0          1    20000.0    2          2         1   24      2      2     -1   \n",
              "1          2   120000.0    2          2         2   26     -1      2      0   \n",
              "2          3    90000.0    2          2         2   34      0      0      0   \n",
              "3          4    50000.0    2          2         1   37      0      0      0   \n",
              "4          5    50000.0    1          2         1   57     -1      0     -1   \n",
              "...      ...        ...  ...        ...       ...  ...    ...    ...    ...   \n",
              "29995  29996   220000.0    1          3         1   39      0      0      0   \n",
              "29996  29997   150000.0    1          3         2   43     -1     -1     -1   \n",
              "29997  29998    30000.0    1          2         2   37      4      3      2   \n",
              "29998  29999    80000.0    1          3         1   41      1     -1      0   \n",
              "29999  30000    50000.0    1          2         1   46      0      0      0   \n",
              "\n",
              "       PAY_4  ...  BILL_AMT4  BILL_AMT5  BILL_AMT6  PAY_AMT1  PAY_AMT2  \\\n",
              "0         -1  ...        0.0        0.0        0.0       0.0     689.0   \n",
              "1          0  ...     3272.0     3455.0     3261.0       0.0    1000.0   \n",
              "2          0  ...    14331.0    14948.0    15549.0    1518.0    1500.0   \n",
              "3          0  ...    28314.0    28959.0    29547.0    2000.0    2019.0   \n",
              "4          0  ...    20940.0    19146.0    19131.0    2000.0   36681.0   \n",
              "...      ...  ...        ...        ...        ...       ...       ...   \n",
              "29995      0  ...    88004.0    31237.0    15980.0    8500.0   20000.0   \n",
              "29996     -1  ...     8979.0     5190.0        0.0    1837.0    3526.0   \n",
              "29997     -1  ...    20878.0    20582.0    19357.0       0.0       0.0   \n",
              "29998      0  ...    52774.0    11855.0    48944.0   85900.0    3409.0   \n",
              "29999      0  ...    36535.0    32428.0    15313.0    2078.0    1800.0   \n",
              "\n",
              "       PAY_AMT3  PAY_AMT4  PAY_AMT5  PAY_AMT6  default.payment.next.month  \n",
              "0           0.0       0.0       0.0       0.0                           1  \n",
              "1        1000.0    1000.0       0.0    2000.0                           1  \n",
              "2        1000.0    1000.0    1000.0    5000.0                           0  \n",
              "3        1200.0    1100.0    1069.0    1000.0                           0  \n",
              "4       10000.0    9000.0     689.0     679.0                           0  \n",
              "...         ...       ...       ...       ...                         ...  \n",
              "29995    5003.0    3047.0    5000.0    1000.0                           0  \n",
              "29996    8998.0     129.0       0.0       0.0                           0  \n",
              "29997   22000.0    4200.0    2000.0    3100.0                           1  \n",
              "29998    1178.0    1926.0   52964.0    1804.0                           1  \n",
              "29999    1430.0    1000.0    1000.0    1000.0                           1  \n",
              "\n",
              "[30000 rows x 25 columns]"
            ],
            "text/html": [
              "\n",
              "  <div id=\"df-81eb518b-5d44-4762-9467-ce2bfc886ec1\">\n",
              "    <div class=\"colab-df-container\">\n",
              "      <div>\n",
              "<style scoped>\n",
              "    .dataframe tbody tr th:only-of-type {\n",
              "        vertical-align: middle;\n",
              "    }\n",
              "\n",
              "    .dataframe tbody tr th {\n",
              "        vertical-align: top;\n",
              "    }\n",
              "\n",
              "    .dataframe thead th {\n",
              "        text-align: right;\n",
              "    }\n",
              "</style>\n",
              "<table border=\"1\" class=\"dataframe\">\n",
              "  <thead>\n",
              "    <tr style=\"text-align: right;\">\n",
              "      <th></th>\n",
              "      <th>ID</th>\n",
              "      <th>LIMIT_BAL</th>\n",
              "      <th>SEX</th>\n",
              "      <th>EDUCATION</th>\n",
              "      <th>MARRIAGE</th>\n",
              "      <th>AGE</th>\n",
              "      <th>PAY_0</th>\n",
              "      <th>PAY_2</th>\n",
              "      <th>PAY_3</th>\n",
              "      <th>PAY_4</th>\n",
              "      <th>...</th>\n",
              "      <th>BILL_AMT4</th>\n",
              "      <th>BILL_AMT5</th>\n",
              "      <th>BILL_AMT6</th>\n",
              "      <th>PAY_AMT1</th>\n",
              "      <th>PAY_AMT2</th>\n",
              "      <th>PAY_AMT3</th>\n",
              "      <th>PAY_AMT4</th>\n",
              "      <th>PAY_AMT5</th>\n",
              "      <th>PAY_AMT6</th>\n",
              "      <th>default.payment.next.month</th>\n",
              "    </tr>\n",
              "  </thead>\n",
              "  <tbody>\n",
              "    <tr>\n",
              "      <th>0</th>\n",
              "      <td>1</td>\n",
              "      <td>20000.0</td>\n",
              "      <td>2</td>\n",
              "      <td>2</td>\n",
              "      <td>1</td>\n",
              "      <td>24</td>\n",
              "      <td>2</td>\n",
              "      <td>2</td>\n",
              "      <td>-1</td>\n",
              "      <td>-1</td>\n",
              "      <td>...</td>\n",
              "      <td>0.0</td>\n",
              "      <td>0.0</td>\n",
              "      <td>0.0</td>\n",
              "      <td>0.0</td>\n",
              "      <td>689.0</td>\n",
              "      <td>0.0</td>\n",
              "      <td>0.0</td>\n",
              "      <td>0.0</td>\n",
              "      <td>0.0</td>\n",
              "      <td>1</td>\n",
              "    </tr>\n",
              "    <tr>\n",
              "      <th>1</th>\n",
              "      <td>2</td>\n",
              "      <td>120000.0</td>\n",
              "      <td>2</td>\n",
              "      <td>2</td>\n",
              "      <td>2</td>\n",
              "      <td>26</td>\n",
              "      <td>-1</td>\n",
              "      <td>2</td>\n",
              "      <td>0</td>\n",
              "      <td>0</td>\n",
              "      <td>...</td>\n",
              "      <td>3272.0</td>\n",
              "      <td>3455.0</td>\n",
              "      <td>3261.0</td>\n",
              "      <td>0.0</td>\n",
              "      <td>1000.0</td>\n",
              "      <td>1000.0</td>\n",
              "      <td>1000.0</td>\n",
              "      <td>0.0</td>\n",
              "      <td>2000.0</td>\n",
              "      <td>1</td>\n",
              "    </tr>\n",
              "    <tr>\n",
              "      <th>2</th>\n",
              "      <td>3</td>\n",
              "      <td>90000.0</td>\n",
              "      <td>2</td>\n",
              "      <td>2</td>\n",
              "      <td>2</td>\n",
              "      <td>34</td>\n",
              "      <td>0</td>\n",
              "      <td>0</td>\n",
              "      <td>0</td>\n",
              "      <td>0</td>\n",
              "      <td>...</td>\n",
              "      <td>14331.0</td>\n",
              "      <td>14948.0</td>\n",
              "      <td>15549.0</td>\n",
              "      <td>1518.0</td>\n",
              "      <td>1500.0</td>\n",
              "      <td>1000.0</td>\n",
              "      <td>1000.0</td>\n",
              "      <td>1000.0</td>\n",
              "      <td>5000.0</td>\n",
              "      <td>0</td>\n",
              "    </tr>\n",
              "    <tr>\n",
              "      <th>3</th>\n",
              "      <td>4</td>\n",
              "      <td>50000.0</td>\n",
              "      <td>2</td>\n",
              "      <td>2</td>\n",
              "      <td>1</td>\n",
              "      <td>37</td>\n",
              "      <td>0</td>\n",
              "      <td>0</td>\n",
              "      <td>0</td>\n",
              "      <td>0</td>\n",
              "      <td>...</td>\n",
              "      <td>28314.0</td>\n",
              "      <td>28959.0</td>\n",
              "      <td>29547.0</td>\n",
              "      <td>2000.0</td>\n",
              "      <td>2019.0</td>\n",
              "      <td>1200.0</td>\n",
              "      <td>1100.0</td>\n",
              "      <td>1069.0</td>\n",
              "      <td>1000.0</td>\n",
              "      <td>0</td>\n",
              "    </tr>\n",
              "    <tr>\n",
              "      <th>4</th>\n",
              "      <td>5</td>\n",
              "      <td>50000.0</td>\n",
              "      <td>1</td>\n",
              "      <td>2</td>\n",
              "      <td>1</td>\n",
              "      <td>57</td>\n",
              "      <td>-1</td>\n",
              "      <td>0</td>\n",
              "      <td>-1</td>\n",
              "      <td>0</td>\n",
              "      <td>...</td>\n",
              "      <td>20940.0</td>\n",
              "      <td>19146.0</td>\n",
              "      <td>19131.0</td>\n",
              "      <td>2000.0</td>\n",
              "      <td>36681.0</td>\n",
              "      <td>10000.0</td>\n",
              "      <td>9000.0</td>\n",
              "      <td>689.0</td>\n",
              "      <td>679.0</td>\n",
              "      <td>0</td>\n",
              "    </tr>\n",
              "    <tr>\n",
              "      <th>...</th>\n",
              "      <td>...</td>\n",
              "      <td>...</td>\n",
              "      <td>...</td>\n",
              "      <td>...</td>\n",
              "      <td>...</td>\n",
              "      <td>...</td>\n",
              "      <td>...</td>\n",
              "      <td>...</td>\n",
              "      <td>...</td>\n",
              "      <td>...</td>\n",
              "      <td>...</td>\n",
              "      <td>...</td>\n",
              "      <td>...</td>\n",
              "      <td>...</td>\n",
              "      <td>...</td>\n",
              "      <td>...</td>\n",
              "      <td>...</td>\n",
              "      <td>...</td>\n",
              "      <td>...</td>\n",
              "      <td>...</td>\n",
              "      <td>...</td>\n",
              "    </tr>\n",
              "    <tr>\n",
              "      <th>29995</th>\n",
              "      <td>29996</td>\n",
              "      <td>220000.0</td>\n",
              "      <td>1</td>\n",
              "      <td>3</td>\n",
              "      <td>1</td>\n",
              "      <td>39</td>\n",
              "      <td>0</td>\n",
              "      <td>0</td>\n",
              "      <td>0</td>\n",
              "      <td>0</td>\n",
              "      <td>...</td>\n",
              "      <td>88004.0</td>\n",
              "      <td>31237.0</td>\n",
              "      <td>15980.0</td>\n",
              "      <td>8500.0</td>\n",
              "      <td>20000.0</td>\n",
              "      <td>5003.0</td>\n",
              "      <td>3047.0</td>\n",
              "      <td>5000.0</td>\n",
              "      <td>1000.0</td>\n",
              "      <td>0</td>\n",
              "    </tr>\n",
              "    <tr>\n",
              "      <th>29996</th>\n",
              "      <td>29997</td>\n",
              "      <td>150000.0</td>\n",
              "      <td>1</td>\n",
              "      <td>3</td>\n",
              "      <td>2</td>\n",
              "      <td>43</td>\n",
              "      <td>-1</td>\n",
              "      <td>-1</td>\n",
              "      <td>-1</td>\n",
              "      <td>-1</td>\n",
              "      <td>...</td>\n",
              "      <td>8979.0</td>\n",
              "      <td>5190.0</td>\n",
              "      <td>0.0</td>\n",
              "      <td>1837.0</td>\n",
              "      <td>3526.0</td>\n",
              "      <td>8998.0</td>\n",
              "      <td>129.0</td>\n",
              "      <td>0.0</td>\n",
              "      <td>0.0</td>\n",
              "      <td>0</td>\n",
              "    </tr>\n",
              "    <tr>\n",
              "      <th>29997</th>\n",
              "      <td>29998</td>\n",
              "      <td>30000.0</td>\n",
              "      <td>1</td>\n",
              "      <td>2</td>\n",
              "      <td>2</td>\n",
              "      <td>37</td>\n",
              "      <td>4</td>\n",
              "      <td>3</td>\n",
              "      <td>2</td>\n",
              "      <td>-1</td>\n",
              "      <td>...</td>\n",
              "      <td>20878.0</td>\n",
              "      <td>20582.0</td>\n",
              "      <td>19357.0</td>\n",
              "      <td>0.0</td>\n",
              "      <td>0.0</td>\n",
              "      <td>22000.0</td>\n",
              "      <td>4200.0</td>\n",
              "      <td>2000.0</td>\n",
              "      <td>3100.0</td>\n",
              "      <td>1</td>\n",
              "    </tr>\n",
              "    <tr>\n",
              "      <th>29998</th>\n",
              "      <td>29999</td>\n",
              "      <td>80000.0</td>\n",
              "      <td>1</td>\n",
              "      <td>3</td>\n",
              "      <td>1</td>\n",
              "      <td>41</td>\n",
              "      <td>1</td>\n",
              "      <td>-1</td>\n",
              "      <td>0</td>\n",
              "      <td>0</td>\n",
              "      <td>...</td>\n",
              "      <td>52774.0</td>\n",
              "      <td>11855.0</td>\n",
              "      <td>48944.0</td>\n",
              "      <td>85900.0</td>\n",
              "      <td>3409.0</td>\n",
              "      <td>1178.0</td>\n",
              "      <td>1926.0</td>\n",
              "      <td>52964.0</td>\n",
              "      <td>1804.0</td>\n",
              "      <td>1</td>\n",
              "    </tr>\n",
              "    <tr>\n",
              "      <th>29999</th>\n",
              "      <td>30000</td>\n",
              "      <td>50000.0</td>\n",
              "      <td>1</td>\n",
              "      <td>2</td>\n",
              "      <td>1</td>\n",
              "      <td>46</td>\n",
              "      <td>0</td>\n",
              "      <td>0</td>\n",
              "      <td>0</td>\n",
              "      <td>0</td>\n",
              "      <td>...</td>\n",
              "      <td>36535.0</td>\n",
              "      <td>32428.0</td>\n",
              "      <td>15313.0</td>\n",
              "      <td>2078.0</td>\n",
              "      <td>1800.0</td>\n",
              "      <td>1430.0</td>\n",
              "      <td>1000.0</td>\n",
              "      <td>1000.0</td>\n",
              "      <td>1000.0</td>\n",
              "      <td>1</td>\n",
              "    </tr>\n",
              "  </tbody>\n",
              "</table>\n",
              "<p>30000 rows × 25 columns</p>\n",
              "</div>\n",
              "      <button class=\"colab-df-convert\" onclick=\"convertToInteractive('df-81eb518b-5d44-4762-9467-ce2bfc886ec1')\"\n",
              "              title=\"Convert this dataframe to an interactive table.\"\n",
              "              style=\"display:none;\">\n",
              "        \n",
              "  <svg xmlns=\"http://www.w3.org/2000/svg\" height=\"24px\"viewBox=\"0 0 24 24\"\n",
              "       width=\"24px\">\n",
              "    <path d=\"M0 0h24v24H0V0z\" fill=\"none\"/>\n",
              "    <path d=\"M18.56 5.44l.94 2.06.94-2.06 2.06-.94-2.06-.94-.94-2.06-.94 2.06-2.06.94zm-11 1L8.5 8.5l.94-2.06 2.06-.94-2.06-.94L8.5 2.5l-.94 2.06-2.06.94zm10 10l.94 2.06.94-2.06 2.06-.94-2.06-.94-.94-2.06-.94 2.06-2.06.94z\"/><path d=\"M17.41 7.96l-1.37-1.37c-.4-.4-.92-.59-1.43-.59-.52 0-1.04.2-1.43.59L10.3 9.45l-7.72 7.72c-.78.78-.78 2.05 0 2.83L4 21.41c.39.39.9.59 1.41.59.51 0 1.02-.2 1.41-.59l7.78-7.78 2.81-2.81c.8-.78.8-2.07 0-2.86zM5.41 20L4 18.59l7.72-7.72 1.47 1.35L5.41 20z\"/>\n",
              "  </svg>\n",
              "      </button>\n",
              "      \n",
              "  <style>\n",
              "    .colab-df-container {\n",
              "      display:flex;\n",
              "      flex-wrap:wrap;\n",
              "      gap: 12px;\n",
              "    }\n",
              "\n",
              "    .colab-df-convert {\n",
              "      background-color: #E8F0FE;\n",
              "      border: none;\n",
              "      border-radius: 50%;\n",
              "      cursor: pointer;\n",
              "      display: none;\n",
              "      fill: #1967D2;\n",
              "      height: 32px;\n",
              "      padding: 0 0 0 0;\n",
              "      width: 32px;\n",
              "    }\n",
              "\n",
              "    .colab-df-convert:hover {\n",
              "      background-color: #E2EBFA;\n",
              "      box-shadow: 0px 1px 2px rgba(60, 64, 67, 0.3), 0px 1px 3px 1px rgba(60, 64, 67, 0.15);\n",
              "      fill: #174EA6;\n",
              "    }\n",
              "\n",
              "    [theme=dark] .colab-df-convert {\n",
              "      background-color: #3B4455;\n",
              "      fill: #D2E3FC;\n",
              "    }\n",
              "\n",
              "    [theme=dark] .colab-df-convert:hover {\n",
              "      background-color: #434B5C;\n",
              "      box-shadow: 0px 1px 3px 1px rgba(0, 0, 0, 0.15);\n",
              "      filter: drop-shadow(0px 1px 2px rgba(0, 0, 0, 0.3));\n",
              "      fill: #FFFFFF;\n",
              "    }\n",
              "  </style>\n",
              "\n",
              "      <script>\n",
              "        const buttonEl =\n",
              "          document.querySelector('#df-81eb518b-5d44-4762-9467-ce2bfc886ec1 button.colab-df-convert');\n",
              "        buttonEl.style.display =\n",
              "          google.colab.kernel.accessAllowed ? 'block' : 'none';\n",
              "\n",
              "        async function convertToInteractive(key) {\n",
              "          const element = document.querySelector('#df-81eb518b-5d44-4762-9467-ce2bfc886ec1');\n",
              "          const dataTable =\n",
              "            await google.colab.kernel.invokeFunction('convertToInteractive',\n",
              "                                                     [key], {});\n",
              "          if (!dataTable) return;\n",
              "\n",
              "          const docLinkHtml = 'Like what you see? Visit the ' +\n",
              "            '<a target=\"_blank\" href=https://colab.research.google.com/notebooks/data_table.ipynb>data table notebook</a>'\n",
              "            + ' to learn more about interactive tables.';\n",
              "          element.innerHTML = '';\n",
              "          dataTable['output_type'] = 'display_data';\n",
              "          await google.colab.output.renderOutput(dataTable, element);\n",
              "          const docLink = document.createElement('div');\n",
              "          docLink.innerHTML = docLinkHtml;\n",
              "          element.appendChild(docLink);\n",
              "        }\n",
              "      </script>\n",
              "    </div>\n",
              "  </div>\n",
              "  "
            ]
          },
          "metadata": {},
          "execution_count": 2
        }
      ]
    },
    {
      "cell_type": "code",
      "source": [
        "df.drop(['ID', 'SEX', 'MARRIAGE'],axis=1, inplace=True)"
      ],
      "metadata": {
        "id": "hKPObJmN4wvi"
      },
      "execution_count": null,
      "outputs": []
    },
    {
      "cell_type": "code",
      "source": [
        "X = df.drop('default.payment.next.month',axis=1).values\n",
        "y = df['default.payment.next.month'].values"
      ],
      "metadata": {
        "id": "WKINlakR46a4"
      },
      "execution_count": null,
      "outputs": []
    },
    {
      "cell_type": "code",
      "source": [
        "from imblearn.over_sampling import KMeansSMOTE\n",
        "from imblearn.combine import SMOTEENN\n",
        "smote_kmeans = SMOTEENN()\n",
        "X_smotekmeans, y_smotekmeans = smote_kmeans.fit_resample(X, y)"
      ],
      "metadata": {
        "id": "xL3PPWyW49Pk"
      },
      "execution_count": null,
      "outputs": []
    },
    {
      "cell_type": "code",
      "source": [
        "from collections import Counter\n",
        "print(\"Before SMOTE :\" , Counter(y))\n",
        "print(\"After SMOTE :\" , Counter(y_smotekmeans))"
      ],
      "metadata": {
        "colab": {
          "base_uri": "https://localhost:8080/"
        },
        "id": "Qm4_b_0P5CM7",
        "outputId": "2aaca7b6-24c1-4b30-d028-cbee7fbf41f5"
      },
      "execution_count": null,
      "outputs": [
        {
          "output_type": "stream",
          "name": "stdout",
          "text": [
            "Before SMOTE : Counter({0: 23364, 1: 6636})\n",
            "After SMOTE : Counter({1: 17071, 0: 10334})\n"
          ]
        }
      ]
    },
    {
      "cell_type": "code",
      "source": [
        "# Single classifier based models\n",
        "from sklearn.naive_bayes import GaussianNB\n",
        "nb = GaussianNB()\n",
        "from sklearn.tree import DecisionTreeClassifier # Import Decision Tree Classifier\n",
        "dt = DecisionTreeClassifier()\n",
        "from sklearn.linear_model import LogisticRegression\n",
        "lr = LogisticRegression(random_state = 0)\n",
        "from sklearn.neighbors import KNeighborsClassifier\n",
        "knn = KNeighborsClassifier(n_neighbors=7)\n",
        "\n",
        "# Ensemble Modles\n",
        "from sklearn.ensemble import RandomForestClassifier\n",
        "# creating a RF classifier\n",
        "rf = RandomForestClassifier(n_estimators = 100) \n",
        "from sklearn.ensemble import ExtraTreesClassifier\n",
        "extr = ExtraTreesClassifier()\n",
        "import xgboost as xgb\n",
        "xgb = xgb.XGBClassifier()\n",
        "from sklearn.ensemble import AdaBoostClassifier\n",
        "adb = AdaBoostClassifier()"
      ],
      "metadata": {
        "id": "sLPEiw_z5Xm6"
      },
      "execution_count": null,
      "outputs": []
    },
    {
      "cell_type": "code",
      "source": [
        "#Accuracy(Naive Bayes)\n",
        "skf = StratifiedKFold(n_splits=10, shuffle=True, random_state=1)\n",
        "lst_accu_stratified = []\n",
        "\n",
        "  \n",
        "for train_index, test_index in skf.split(X_smotekmeans, y_smotekmeans):\n",
        "    x_train_fold, x_test_fold = X_smotekmeans[train_index], X_smotekmeans[test_index]\n",
        "    y_smotekmeans_train_fold, y_smotekmeans_test_fold = y_smotekmeans[train_index], y_smotekmeans[test_index]\n",
        "    nb.fit(x_train_fold, y_smotekmeans_train_fold)\n",
        "    lst_accu_stratified.append(nb.score(x_test_fold, y_smotekmeans_test_fold))\n",
        "\n",
        "\n",
        "# Print the output.\n",
        "print('Cross validation accuracy:', lst_accu_stratified)\n",
        "print('\\nMaximum Accuracy That can be obtained from this model is:',\n",
        "      max(lst_accu_stratified)*100, '%')\n",
        "print('\\nMinimum Accuracy:',\n",
        "      min(lst_accu_stratified)*100, '%')\n",
        "print('\\nOverall Accuracy:',\n",
        "      mean(lst_accu_stratified)*100, '%')\n",
        "print('\\nStandard Deviation is:', stdev(lst_accu_stratified))"
      ],
      "metadata": {
        "colab": {
          "base_uri": "https://localhost:8080/"
        },
        "id": "qMhjaun6zXV6",
        "outputId": "3461b9b6-dd4e-44e3-893e-b9fefccd0b34"
      },
      "execution_count": null,
      "outputs": [
        {
          "output_type": "stream",
          "name": "stdout",
          "text": [
            "Cross validation accuracy: [0.6785844582269245, 0.6778547975191536, 0.681503101058008, 0.6884348777818314, 0.6785844582269245, 0.6916058394160584, 0.6828467153284672, 0.6821167883211678, 0.6868613138686132, 0.6821167883211678]\n",
            "\n",
            "Maximum Accuracy That can be obtained from this model is: 69.16058394160584 %\n",
            "\n",
            "Minimum Accuracy: 67.78547975191536 %\n",
            "\n",
            "Overall Accuracy: 68.30509138068317 %\n",
            "\n",
            "Standard Deviation is: 0.004567684149834997\n"
          ]
        }
      ]
    },
    {
      "cell_type": "code",
      "source": [
        "#F1_score(Naive Bayes)\n",
        "skf = StratifiedKFold(n_splits=10, shuffle=True, random_state=1)\n",
        "lst_accu_stratified = []\n",
        "\n",
        "  \n",
        "for train_index, test_index in skf.split(X_smotekmeans, y_smotekmeans):\n",
        "    x_train_fold, x_test_fold = X_smotekmeans[train_index], X_smotekmeans[test_index]\n",
        "    y_smotekmeans_train_fold, y_smotekmeans_test_fold = y_smotekmeans[train_index], y_smotekmeans[test_index]\n",
        "    nb.fit(x_train_fold, y_smotekmeans_train_fold)\n",
        "    pred_values = nb.predict(x_test_fold)\n",
        "    acc = f1_score(pred_values , y_smotekmeans_test_fold)\n",
        "    lst_accu_stratified.append(acc)  \n",
        "\n",
        "# Print the output.\n",
        "lst_accu_stratified = sum(lst_accu_stratified)/10\n",
        "print('F1 score:', format(lst_accu_stratified))"
      ],
      "metadata": {
        "colab": {
          "base_uri": "https://localhost:8080/"
        },
        "id": "iXrvw8et2KsY",
        "outputId": "ad2d37b0-b650-4183-ca13-a66fb31554c1"
      },
      "execution_count": null,
      "outputs": [
        {
          "output_type": "stream",
          "name": "stdout",
          "text": [
            "F1 score: 0.7910222208299549\n"
          ]
        }
      ]
    },
    {
      "cell_type": "code",
      "source": [
        "#Accuracy(Decision Tree)\n",
        "skf = StratifiedKFold(n_splits=10, shuffle=True, random_state=1)\n",
        "lst_accu_stratified = []\n",
        "\n",
        "  \n",
        "for train_index, test_index in skf.split(X_smotekmeans, y_smotekmeans):\n",
        "    x_train_fold, x_test_fold = X_smotekmeans[train_index], X_smotekmeans[test_index]\n",
        "    y_smotekmeans_train_fold, y_smotekmeans_test_fold = y_smotekmeans[train_index], y_smotekmeans[test_index]\n",
        "    dt.fit(x_train_fold, y_smotekmeans_train_fold)\n",
        "    lst_accu_stratified.append(dt.score(x_test_fold, y_smotekmeans_test_fold))\n",
        "\n",
        "\n",
        "# Print the output.\n",
        "print('Cross validation accuracy:', lst_accu_stratified)\n",
        "print('\\nMaximum Accuracy That can be obtained from this model is:',\n",
        "      max(lst_accu_stratified)*100, '%')\n",
        "print('\\nMinimum Accuracy:',\n",
        "      min(lst_accu_stratified)*100, '%')\n",
        "print('\\nOverall Accuracy:',\n",
        "      mean(lst_accu_stratified)*100, '%')\n",
        "print('\\nStandard Deviation is:', stdev(lst_accu_stratified))"
      ],
      "metadata": {
        "colab": {
          "base_uri": "https://localhost:8080/"
        },
        "id": "otZtLaWu6C0T",
        "outputId": "f7dec37f-d1bf-4758-c2ec-1813174c6575"
      },
      "execution_count": null,
      "outputs": [
        {
          "output_type": "stream",
          "name": "stdout",
          "text": [
            "Cross validation accuracy: [0.868296242247355, 0.8690259029551258, 0.861729295877417, 0.8624589565851879, 0.8609996351696461, 0.862043795620438, 0.8598540145985402, 0.8594890510948905, 0.8602189781021898, 0.8565693430656934]\n",
            "\n",
            "Maximum Accuracy That can be obtained from this model is: 86.90259029551258 %\n",
            "\n",
            "Minimum Accuracy: 85.65693430656934 %\n",
            "\n",
            "Overall Accuracy: 86.20685215316483 %\n",
            "\n",
            "Standard Deviation is: 0.003856016769996379\n"
          ]
        }
      ]
    },
    {
      "cell_type": "code",
      "source": [
        "#F1_score(Decision Tree)\n",
        "skf = StratifiedKFold(n_splits=10, shuffle=True, random_state=1)\n",
        "lst_accu_stratified = []\n",
        "\n",
        "  \n",
        "for train_index, test_index in skf.split(X_smotekmeans, y_smotekmeans):\n",
        "    x_train_fold, x_test_fold = X_smotekmeans[train_index], X_smotekmeans[test_index]\n",
        "    y_smotekmeans_train_fold, y_smotekmeans_test_fold = y_smotekmeans[train_index], y_smotekmeans[test_index]\n",
        "    dt.fit(x_train_fold, y_smotekmeans_train_fold)\n",
        "    pred_values = dt.predict(x_test_fold)\n",
        "    acc = f1_score(pred_values , y_smotekmeans_test_fold)\n",
        "    lst_accu_stratified.append(acc)  \n",
        "\n",
        "# Print the output.\n",
        "lst_accu_stratified = sum(lst_accu_stratified)/10\n",
        "print('F1 score:', format(lst_accu_stratified))"
      ],
      "metadata": {
        "colab": {
          "base_uri": "https://localhost:8080/"
        },
        "id": "OLIuL85v2NOB",
        "outputId": "8e3ad2d2-3375-40b9-da0e-e01e95feca21"
      },
      "execution_count": null,
      "outputs": [
        {
          "output_type": "stream",
          "name": "stdout",
          "text": [
            "F1 score: 0.8901437022001752\n"
          ]
        }
      ]
    },
    {
      "cell_type": "code",
      "source": [
        "#Accuracy(K Nearest Neighbor)\n",
        "skf = StratifiedKFold(n_splits=10, shuffle=True, random_state=1)\n",
        "lst_accu_stratified = []\n",
        "\n",
        "  \n",
        "for train_index, test_index in skf.split(X_smotekmeans, y_smotekmeans):\n",
        "    x_train_fold, x_test_fold = X_smotekmeans[train_index], X_smotekmeans[test_index]\n",
        "    y_smotekmeans_train_fold, y_smotekmeans_test_fold = y_smotekmeans[train_index], y_smotekmeans[test_index]\n",
        "    knn.fit(x_train_fold, y_smotekmeans_train_fold)\n",
        "    lst_accu_stratified.append(knn.score(x_test_fold, y_smotekmeans_test_fold))\n",
        "\n",
        "\n",
        "# Print the output.\n",
        "print('Cross validation accuracy:', lst_accu_stratified)\n",
        "print('\\nMaximum Accuracy That can be obtained from this model is:',\n",
        "      max(lst_accu_stratified)*100, '%')\n",
        "print('\\nMinimum Accuracy:',\n",
        "      min(lst_accu_stratified)*100, '%')\n",
        "print('\\nOverall Accuracy:',\n",
        "      mean(lst_accu_stratified)*100, '%')\n",
        "print('\\nStandard Deviation is:', stdev(lst_accu_stratified))"
      ],
      "metadata": {
        "colab": {
          "base_uri": "https://localhost:8080/"
        },
        "id": "Fh5wYvzM73LR",
        "outputId": "f38fc8a9-01de-4360-bb7d-33e127f681a3"
      },
      "execution_count": null,
      "outputs": [
        {
          "output_type": "stream",
          "name": "stdout",
          "text": [
            "Cross validation accuracy: [0.8807004742794601, 0.878146661802262, 0.8737686975556366, 0.8847136081721999, 0.8909157241882525, 0.8883211678832117, 0.872992700729927, 0.8824817518248175, 0.887956204379562, 0.8901459854014598]\n",
            "\n",
            "Maximum Accuracy That can be obtained from this model is: 89.09157241882525 %\n",
            "\n",
            "Minimum Accuracy: 87.2992700729927 %\n",
            "\n",
            "Overall Accuracy: 88.3014297621679 %\n",
            "\n",
            "Standard Deviation is: 0.006532068499129606\n"
          ]
        }
      ]
    },
    {
      "cell_type": "code",
      "source": [
        "#F1_score(K Nearest Neighbor)\n",
        "skf = StratifiedKFold(n_splits=10, shuffle=True, random_state=1)\n",
        "lst_accu_stratified = []\n",
        "\n",
        "  \n",
        "for train_index, test_index in skf.split(X_smotekmeans, y_smotekmeans):\n",
        "    x_train_fold, x_test_fold = X_smotekmeans[train_index], X_smotekmeans[test_index]\n",
        "    y_smotekmeans_train_fold, y_smotekmeans_test_fold = y_smotekmeans[train_index], y_smotekmeans[test_index]\n",
        "    knn.fit(x_train_fold, y_smotekmeans_train_fold)\n",
        "    pred_values = knn.predict(x_test_fold)\n",
        "    acc = f1_score(pred_values , y_smotekmeans_test_fold)\n",
        "    lst_accu_stratified.append(acc)  \n",
        "\n",
        "# Print the output.\n",
        "lst_accu_stratified = sum(lst_accu_stratified)/10\n",
        "print('F1 score:', format(lst_accu_stratified))"
      ],
      "metadata": {
        "colab": {
          "base_uri": "https://localhost:8080/"
        },
        "id": "U5e9kRFw2RAf",
        "outputId": "b2805a32-7750-40af-8b03-2a6b9d90ccb1"
      },
      "execution_count": null,
      "outputs": [
        {
          "output_type": "stream",
          "name": "stdout",
          "text": [
            "F1 score: 0.911057730959536\n"
          ]
        }
      ]
    },
    {
      "cell_type": "code",
      "source": [
        "#Accuracy(Random Forest)\n",
        "skf = StratifiedKFold(n_splits=10, shuffle=True, random_state=1)\n",
        "lst_accu_stratified = []\n",
        "\n",
        "  \n",
        "for train_index, test_index in skf.split(X_smotekmeans, y_smotekmeans):\n",
        "    x_train_fold, x_test_fold = X_smotekmeans[train_index], X_smotekmeans[test_index]\n",
        "    y_smotekmeans_train_fold, y_smotekmeans_test_fold = y_smotekmeans[train_index], y_smotekmeans[test_index]\n",
        "    rf.fit(x_train_fold, y_smotekmeans_train_fold)\n",
        "    lst_accu_stratified.append(rf.score(x_test_fold, y_smotekmeans_test_fold))\n",
        "\n",
        "\n",
        "# Print the output.\n",
        "print('Cross validation accuracy:', lst_accu_stratified)\n",
        "print('\\nMaximum Accuracy That can be obtained from this model is:',\n",
        "      max(lst_accu_stratified)*100, '%')\n",
        "print('\\nMinimum Accuracy:',\n",
        "      min(lst_accu_stratified)*100, '%')\n",
        "print('\\nOverall Accuracy:',\n",
        "      mean(lst_accu_stratified)*100, '%')\n",
        "print('\\nStandard Deviation is:', stdev(lst_accu_stratified))"
      ],
      "metadata": {
        "colab": {
          "base_uri": "https://localhost:8080/"
        },
        "id": "4p9R6yd08FfI",
        "outputId": "337debf2-8292-40e0-ad0b-77cee20f0b0d"
      },
      "execution_count": null,
      "outputs": [
        {
          "output_type": "stream",
          "name": "stdout",
          "text": [
            "Cross validation accuracy: [0.9201021524990879, 0.9193724917913171, 0.9157241882524626, 0.9211966435607443, 0.916818679314119, 0.9324817518248175, 0.9193430656934306, 0.9255474452554745, 0.9273722627737226, 0.9226277372262773]\n",
            "\n",
            "Maximum Accuracy That can be obtained from this model is: 93.24817518248175 %\n",
            "\n",
            "Minimum Accuracy: 91.57241882524626 %\n",
            "\n",
            "Overall Accuracy: 92.20586418191454 %\n",
            "\n",
            "Standard Deviation is: 0.0051220066055437915\n"
          ]
        }
      ]
    },
    {
      "cell_type": "code",
      "source": [
        "#F1_score(Random Forest)\n",
        "skf = StratifiedKFold(n_splits=10, shuffle=True, random_state=1)\n",
        "lst_accu_stratified = []\n",
        "\n",
        "  \n",
        "for train_index, test_index in skf.split(X_smotekmeans, y_smotekmeans):\n",
        "    x_train_fold, x_test_fold = X_smotekmeans[train_index], X_smotekmeans[test_index]\n",
        "    y_smotekmeans_train_fold, y_smotekmeans_test_fold = y_smotekmeans[train_index], y_smotekmeans[test_index]\n",
        "    rf.fit(x_train_fold, y_smotekmeans_train_fold)\n",
        "    pred_values = rf.predict(x_test_fold)\n",
        "    acc = f1_score(pred_values , y_smotekmeans_test_fold)\n",
        "    lst_accu_stratified.append(acc)  \n",
        "\n",
        "# Print the output.\n",
        "lst_accu_stratified = sum(lst_accu_stratified)/10\n",
        "print('F1 score:', format(lst_accu_stratified))"
      ],
      "metadata": {
        "colab": {
          "base_uri": "https://localhost:8080/"
        },
        "id": "PfBaRU3D2TMn",
        "outputId": "2ee28d6a-a70f-45b8-beb8-a654ec8ec2be"
      },
      "execution_count": null,
      "outputs": [
        {
          "output_type": "stream",
          "name": "stdout",
          "text": [
            "F1 score: 0.937022887080977\n"
          ]
        }
      ]
    },
    {
      "cell_type": "code",
      "source": [
        "#Accuracy(Extra Tree)\n",
        "skf = StratifiedKFold(n_splits=10, shuffle=True, random_state=1)\n",
        "lst_accu_stratified = []\n",
        "\n",
        "  \n",
        "for train_index, test_index in skf.split(X_smotekmeans, y_smotekmeans):\n",
        "    x_train_fold, x_test_fold = X_smotekmeans[train_index], X_smotekmeans[test_index]\n",
        "    y_smotekmeans_train_fold, y_smotekmeans_test_fold = y_smotekmeans[train_index], y_smotekmeans[test_index]\n",
        "    extr.fit(x_train_fold, y_smotekmeans_train_fold)\n",
        "    lst_accu_stratified.append(extr.score(x_test_fold, y_smotekmeans_test_fold))\n",
        "\n",
        "\n",
        "# Print the output.\n",
        "print('Cross validation accuracy:', lst_accu_stratified)\n",
        "print('\\nMaximum Accuracy That can be obtained from this model is:',\n",
        "      max(lst_accu_stratified)*100, '%')\n",
        "print('\\nMinimum Accuracy:',\n",
        "      min(lst_accu_stratified)*100, '%')\n",
        "print('\\nOverall Accuracy:',\n",
        "      mean(lst_accu_stratified)*100, '%')\n",
        "print('\\nStandard Deviation is:', stdev(lst_accu_stratified))"
      ],
      "metadata": {
        "colab": {
          "base_uri": "https://localhost:8080/"
        },
        "id": "yx3lZdEd8PZf",
        "outputId": "11d4189a-99fd-4d66-eed6-dd91c0828f9b"
      },
      "execution_count": null,
      "outputs": [
        {
          "output_type": "stream",
          "name": "stdout",
          "text": [
            "Cross validation accuracy: [0.9419919737322145, 0.9383436701933601, 0.935060197008391, 0.9365195184239329, 0.935789857716162, 0.9456204379562044, 0.9332116788321168, 0.9408759124087591, 0.9408759124087591, 0.939051094890511]\n",
            "\n",
            "Maximum Accuracy That can be obtained from this model is: 94.56204379562044 %\n",
            "\n",
            "Minimum Accuracy: 93.32116788321167 %\n",
            "\n",
            "Overall Accuracy: 93.87340253570412 %\n",
            "\n",
            "Standard Deviation is: 0.0037272370845467585\n"
          ]
        }
      ]
    },
    {
      "cell_type": "code",
      "source": [
        "#F1_score(Extra Tree)\n",
        "skf = StratifiedKFold(n_splits=10, shuffle=True, random_state=1)\n",
        "lst_accu_stratified = []\n",
        "\n",
        "  \n",
        "for train_index, test_index in skf.split(X_smotekmeans, y_smotekmeans):\n",
        "    x_train_fold, x_test_fold = X_smotekmeans[train_index], X_smotekmeans[test_index]\n",
        "    y_smotekmeans_train_fold, y_smotekmeans_test_fold = y_smotekmeans[train_index], y_smotekmeans[test_index]\n",
        "    extr.fit(x_train_fold, y_smotekmeans_train_fold)\n",
        "    pred_values = extr.predict(x_test_fold)\n",
        "    acc = f1_score(pred_values , y_smotekmeans_test_fold)\n",
        "    lst_accu_stratified.append(acc)  \n",
        "\n",
        "# Print the output.\n",
        "lst_accu_stratified = sum(lst_accu_stratified)/10\n",
        "print('F1 score:', format(lst_accu_stratified))"
      ],
      "metadata": {
        "colab": {
          "base_uri": "https://localhost:8080/"
        },
        "id": "_0ZKEbsK2WRY",
        "outputId": "7c091f0e-5d09-4c66-e33e-dd61bb6e03b7"
      },
      "execution_count": null,
      "outputs": [
        {
          "output_type": "stream",
          "name": "stdout",
          "text": [
            "F1 score: 0.9506061332416028\n"
          ]
        }
      ]
    },
    {
      "cell_type": "code",
      "source": [
        "#Accuracy(XGBoost)\n",
        "skf = StratifiedKFold(n_splits=10, shuffle=True, random_state=1)\n",
        "lst_accu_stratified = []\n",
        "\n",
        "  \n",
        "for train_index, test_index in skf.split(X_smotekmeans, y_smotekmeans):\n",
        "    x_train_fold, x_test_fold = X_smotekmeans[train_index], X_smotekmeans[test_index]\n",
        "    y_smotekmeans_train_fold, y_smotekmeans_test_fold = y_smotekmeans[train_index], y_smotekmeans[test_index]\n",
        "    xgb.fit(x_train_fold, y_smotekmeans_train_fold)\n",
        "    lst_accu_stratified.append(xgb.score(x_test_fold, y_smotekmeans_test_fold))\n",
        "\n",
        "\n",
        "# Print the output.\n",
        "print('Cross validation accuracy:', lst_accu_stratified)\n",
        "print('\\nMaximum Accuracy That can be obtained from this model is:',\n",
        "      max(lst_accu_stratified)*100, '%')\n",
        "print('\\nMinimum Accuracy:',\n",
        "      min(lst_accu_stratified)*100, '%')\n",
        "print('\\nOverall Accuracy:',\n",
        "      mean(lst_accu_stratified)*100, '%')\n",
        "print('\\nStandard Deviation is:', stdev(lst_accu_stratified))"
      ],
      "metadata": {
        "colab": {
          "base_uri": "https://localhost:8080/"
        },
        "id": "IvJGa7Vz87P3",
        "outputId": "526a99e1-7f2e-4878-9aa7-a686ef886bbc"
      },
      "execution_count": null,
      "outputs": [
        {
          "output_type": "stream",
          "name": "stdout",
          "text": [
            "Cross validation accuracy: [0.8901860634804816, 0.8909157241882525, 0.8766873403867201, 0.8843487778183144, 0.8814301349872309, 0.8989051094890511, 0.8948905109489051, 0.881021897810219, 0.9029197080291971, 0.8868613138686131]\n",
            "\n",
            "Maximum Accuracy That can be obtained from this model is: 90.2919708029197 %\n",
            "\n",
            "Minimum Accuracy: 87.66873403867201 %\n",
            "\n",
            "Overall Accuracy: 88.88166581006985 %\n",
            "\n",
            "Standard Deviation is: 0.008367068993240146\n"
          ]
        }
      ]
    },
    {
      "cell_type": "code",
      "source": [
        "#F1_score(XGBoost)\n",
        "skf = StratifiedKFold(n_splits=10, shuffle=True, random_state=1)\n",
        "lst_accu_stratified = []\n",
        "\n",
        "  \n",
        "for train_index, test_index in skf.split(X_smotekmeans, y_smotekmeans):\n",
        "    x_train_fold, x_test_fold = X_smotekmeans[train_index], X_smotekmeans[test_index]\n",
        "    y_smotekmeans_train_fold, y_smotekmeans_test_fold = y_smotekmeans[train_index], y_smotekmeans[test_index]\n",
        "    xgb.fit(x_train_fold, y_smotekmeans_train_fold)\n",
        "    pred_values = xgb.predict(x_test_fold)\n",
        "    acc = f1_score(pred_values , y_smotekmeans_test_fold)\n",
        "    lst_accu_stratified.append(acc)  \n",
        "\n",
        "# Print the output.\n",
        "lst_accu_stratified = sum(lst_accu_stratified)/10\n",
        "print('F1 score:', format(lst_accu_stratified))"
      ],
      "metadata": {
        "colab": {
          "base_uri": "https://localhost:8080/"
        },
        "id": "cBBxdIqW2YyS",
        "outputId": "1fbf07c4-fe4d-46e7-f28c-554732a7562b"
      },
      "execution_count": null,
      "outputs": [
        {
          "output_type": "stream",
          "name": "stdout",
          "text": [
            "F1 score: 0.9085720403970707\n"
          ]
        }
      ]
    },
    {
      "cell_type": "code",
      "source": [
        "#Accuracy(AdaBoost)\n",
        "skf = StratifiedKFold(n_splits=10, shuffle=True, random_state=1)\n",
        "lst_accu_stratified = []\n",
        "\n",
        "  \n",
        "for train_index, test_index in skf.split(X_smotekmeans, y_smotekmeans):\n",
        "    x_train_fold, x_test_fold = X_smotekmeans[train_index], X_smotekmeans[test_index]\n",
        "    y_smotekmeans_train_fold, y_smotekmeans_test_fold = y_smotekmeans[train_index], y_smotekmeans[test_index]\n",
        "    adb.fit(x_train_fold, y_smotekmeans_train_fold)\n",
        "    lst_accu_stratified.append(adb.score(x_test_fold, y_smotekmeans_test_fold))\n",
        "\n",
        "\n",
        "# Print the output.\n",
        "print('Cross validation accuracy:', lst_accu_stratified)\n",
        "print('\\nMaximum Accuracy That can be obtained from this model is:',\n",
        "      max(lst_accu_stratified)*100, '%')\n",
        "print('\\nMinimum Accuracy:',\n",
        "      min(lst_accu_stratified)*100, '%')\n",
        "print('\\nOverall Accuracy:',\n",
        "      mean(lst_accu_stratified)*100, '%')\n",
        "print('\\nStandard Deviation is:', stdev(lst_accu_stratified))"
      ],
      "metadata": {
        "colab": {
          "base_uri": "https://localhost:8080/"
        },
        "id": "NqoPnJww9yRt",
        "outputId": "7df120e4-2592-4762-c2c9-1d194e82dcc3"
      },
      "execution_count": null,
      "outputs": [
        {
          "output_type": "stream",
          "name": "stdout",
          "text": [
            "Cross validation accuracy: [0.8657424297701569, 0.8606348048157607, 0.8562568405691353, 0.861729295877417, 0.8555271798613645, 0.8755474452554745, 0.8664233576642336, 0.8664233576642336, 0.868978102189781, 0.8645985401459854]\n",
            "\n",
            "Maximum Accuracy That can be obtained from this model is: 87.55474452554745 %\n",
            "\n",
            "Minimum Accuracy: 85.55271798613646 %\n",
            "\n",
            "Overall Accuracy: 86.41861353813542 %\n",
            "\n",
            "Standard Deviation is: 0.00597349703086565\n"
          ]
        }
      ]
    },
    {
      "cell_type": "code",
      "source": [
        "#F1_score(AdaBoost)\n",
        "skf = StratifiedKFold(n_splits=10, shuffle=True, random_state=1)\n",
        "lst_accu_stratified = []\n",
        "\n",
        "  \n",
        "for train_index, test_index in skf.split(X_smotekmeans, y_smotekmeans):\n",
        "    x_train_fold, x_test_fold = X_smotekmeans[train_index], X_smotekmeans[test_index]\n",
        "    y_smotekmeans_train_fold, y_smotekmeans_test_fold = y_smotekmeans[train_index], y_smotekmeans[test_index]\n",
        "    adb.fit(x_train_fold, y_smotekmeans_train_fold)\n",
        "    pred_values = adb.predict(x_test_fold)\n",
        "    acc = f1_score(pred_values , y_smotekmeans_test_fold)\n",
        "    lst_accu_stratified.append(acc)  \n",
        "\n",
        "# Print the output.\n",
        "lst_accu_stratified = sum(lst_accu_stratified)/10\n",
        "print('F1 score:', format(lst_accu_stratified))"
      ],
      "metadata": {
        "id": "u7veqvl6-A-N",
        "colab": {
          "base_uri": "https://localhost:8080/"
        },
        "outputId": "c05181cc-92e1-4019-fcac-e4f7c1c5abc8"
      },
      "execution_count": null,
      "outputs": [
        {
          "output_type": "stream",
          "name": "stdout",
          "text": [
            "F1 score: 0.8887856294719203\n"
          ]
        }
      ]
    },
    {
      "cell_type": "code",
      "source": [],
      "metadata": {
        "id": "Fiatekqy73Jt"
      },
      "execution_count": null,
      "outputs": []
    }
  ]
}